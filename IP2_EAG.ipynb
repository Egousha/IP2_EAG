{
 "cells": [
  {
   "cell_type": "code",
   "execution_count": 115,
   "id": "7b83b054",
   "metadata": {},
   "outputs": [],
   "source": [
    "import numpy as np\n",
    "import pandas as pd"
   ]
  },
  {
   "cell_type": "code",
   "execution_count": 116,
   "id": "2fddc4e4",
   "metadata": {},
   "outputs": [],
   "source": [
    "df=pd.read_csv(\"weather_2012.csv\")"
   ]
  },
  {
   "cell_type": "markdown",
   "id": "7524b2bc",
   "metadata": {},
   "source": [
    "2.\tWrite the code to display the first five rows of the dataset, the last five rows of the dataset and a sample of five random rows from the dataset."
   ]
  },
  {
   "cell_type": "code",
   "execution_count": 117,
   "id": "21f59d26",
   "metadata": {},
   "outputs": [
    {
     "data": {
      "text/html": [
       "<div>\n",
       "<style scoped>\n",
       "    .dataframe tbody tr th:only-of-type {\n",
       "        vertical-align: middle;\n",
       "    }\n",
       "\n",
       "    .dataframe tbody tr th {\n",
       "        vertical-align: top;\n",
       "    }\n",
       "\n",
       "    .dataframe thead th {\n",
       "        text-align: right;\n",
       "    }\n",
       "</style>\n",
       "<table border=\"1\" class=\"dataframe\">\n",
       "  <thead>\n",
       "    <tr style=\"text-align: right;\">\n",
       "      <th></th>\n",
       "      <th>Date/Time</th>\n",
       "      <th>Temp (C)</th>\n",
       "      <th>Dew Point Temp (C)</th>\n",
       "      <th>Rel Hum (%)</th>\n",
       "      <th>Wind Spd (km/h)</th>\n",
       "      <th>Visibility (km)</th>\n",
       "      <th>Stn Press (kPa)</th>\n",
       "      <th>Weather</th>\n",
       "    </tr>\n",
       "  </thead>\n",
       "  <tbody>\n",
       "    <tr>\n",
       "      <th>0</th>\n",
       "      <td>2012-01-01 00:00:00</td>\n",
       "      <td>-1.8</td>\n",
       "      <td>-3.9</td>\n",
       "      <td>86</td>\n",
       "      <td>4</td>\n",
       "      <td>8.0</td>\n",
       "      <td>101.24</td>\n",
       "      <td>Fog</td>\n",
       "    </tr>\n",
       "    <tr>\n",
       "      <th>1</th>\n",
       "      <td>2012-01-01 01:00:00</td>\n",
       "      <td>-1.8</td>\n",
       "      <td>-3.7</td>\n",
       "      <td>87</td>\n",
       "      <td>4</td>\n",
       "      <td>8.0</td>\n",
       "      <td>101.24</td>\n",
       "      <td>Fog</td>\n",
       "    </tr>\n",
       "    <tr>\n",
       "      <th>2</th>\n",
       "      <td>2012-01-01 02:00:00</td>\n",
       "      <td>-1.8</td>\n",
       "      <td>-3.4</td>\n",
       "      <td>89</td>\n",
       "      <td>7</td>\n",
       "      <td>4.0</td>\n",
       "      <td>101.26</td>\n",
       "      <td>Freezing Drizzle,Fog</td>\n",
       "    </tr>\n",
       "    <tr>\n",
       "      <th>3</th>\n",
       "      <td>2012-01-01 03:00:00</td>\n",
       "      <td>-1.5</td>\n",
       "      <td>-3.2</td>\n",
       "      <td>88</td>\n",
       "      <td>6</td>\n",
       "      <td>4.0</td>\n",
       "      <td>101.27</td>\n",
       "      <td>Freezing Drizzle,Fog</td>\n",
       "    </tr>\n",
       "    <tr>\n",
       "      <th>4</th>\n",
       "      <td>2012-01-01 04:00:00</td>\n",
       "      <td>-1.5</td>\n",
       "      <td>-3.3</td>\n",
       "      <td>88</td>\n",
       "      <td>7</td>\n",
       "      <td>4.8</td>\n",
       "      <td>101.23</td>\n",
       "      <td>Fog</td>\n",
       "    </tr>\n",
       "  </tbody>\n",
       "</table>\n",
       "</div>"
      ],
      "text/plain": [
       "             Date/Time  Temp (C)  Dew Point Temp (C)  Rel Hum (%)  \\\n",
       "0  2012-01-01 00:00:00      -1.8                -3.9           86   \n",
       "1  2012-01-01 01:00:00      -1.8                -3.7           87   \n",
       "2  2012-01-01 02:00:00      -1.8                -3.4           89   \n",
       "3  2012-01-01 03:00:00      -1.5                -3.2           88   \n",
       "4  2012-01-01 04:00:00      -1.5                -3.3           88   \n",
       "\n",
       "   Wind Spd (km/h)  Visibility (km)  Stn Press (kPa)               Weather  \n",
       "0                4              8.0           101.24                   Fog  \n",
       "1                4              8.0           101.24                   Fog  \n",
       "2                7              4.0           101.26  Freezing Drizzle,Fog  \n",
       "3                6              4.0           101.27  Freezing Drizzle,Fog  \n",
       "4                7              4.8           101.23                   Fog  "
      ]
     },
     "execution_count": 117,
     "metadata": {},
     "output_type": "execute_result"
    }
   ],
   "source": [
    "df.head()"
   ]
  },
  {
   "cell_type": "code",
   "execution_count": 118,
   "id": "fc1599f7",
   "metadata": {},
   "outputs": [
    {
     "data": {
      "text/html": [
       "<div>\n",
       "<style scoped>\n",
       "    .dataframe tbody tr th:only-of-type {\n",
       "        vertical-align: middle;\n",
       "    }\n",
       "\n",
       "    .dataframe tbody tr th {\n",
       "        vertical-align: top;\n",
       "    }\n",
       "\n",
       "    .dataframe thead th {\n",
       "        text-align: right;\n",
       "    }\n",
       "</style>\n",
       "<table border=\"1\" class=\"dataframe\">\n",
       "  <thead>\n",
       "    <tr style=\"text-align: right;\">\n",
       "      <th></th>\n",
       "      <th>Date/Time</th>\n",
       "      <th>Temp (C)</th>\n",
       "      <th>Dew Point Temp (C)</th>\n",
       "      <th>Rel Hum (%)</th>\n",
       "      <th>Wind Spd (km/h)</th>\n",
       "      <th>Visibility (km)</th>\n",
       "      <th>Stn Press (kPa)</th>\n",
       "      <th>Weather</th>\n",
       "    </tr>\n",
       "  </thead>\n",
       "  <tbody>\n",
       "    <tr>\n",
       "      <th>8779</th>\n",
       "      <td>2012-12-31 19:00:00</td>\n",
       "      <td>0.1</td>\n",
       "      <td>-2.7</td>\n",
       "      <td>81</td>\n",
       "      <td>30</td>\n",
       "      <td>9.7</td>\n",
       "      <td>100.13</td>\n",
       "      <td>Snow</td>\n",
       "    </tr>\n",
       "    <tr>\n",
       "      <th>8780</th>\n",
       "      <td>2012-12-31 20:00:00</td>\n",
       "      <td>0.2</td>\n",
       "      <td>-2.4</td>\n",
       "      <td>83</td>\n",
       "      <td>24</td>\n",
       "      <td>9.7</td>\n",
       "      <td>100.03</td>\n",
       "      <td>Snow</td>\n",
       "    </tr>\n",
       "    <tr>\n",
       "      <th>8781</th>\n",
       "      <td>2012-12-31 21:00:00</td>\n",
       "      <td>-0.5</td>\n",
       "      <td>-1.5</td>\n",
       "      <td>93</td>\n",
       "      <td>28</td>\n",
       "      <td>4.8</td>\n",
       "      <td>99.95</td>\n",
       "      <td>Snow</td>\n",
       "    </tr>\n",
       "    <tr>\n",
       "      <th>8782</th>\n",
       "      <td>2012-12-31 22:00:00</td>\n",
       "      <td>-0.2</td>\n",
       "      <td>-1.8</td>\n",
       "      <td>89</td>\n",
       "      <td>28</td>\n",
       "      <td>9.7</td>\n",
       "      <td>99.91</td>\n",
       "      <td>Snow</td>\n",
       "    </tr>\n",
       "    <tr>\n",
       "      <th>8783</th>\n",
       "      <td>2012-12-31 23:00:00</td>\n",
       "      <td>0.0</td>\n",
       "      <td>-2.1</td>\n",
       "      <td>86</td>\n",
       "      <td>30</td>\n",
       "      <td>11.3</td>\n",
       "      <td>99.89</td>\n",
       "      <td>Snow</td>\n",
       "    </tr>\n",
       "  </tbody>\n",
       "</table>\n",
       "</div>"
      ],
      "text/plain": [
       "                Date/Time  Temp (C)  Dew Point Temp (C)  Rel Hum (%)  \\\n",
       "8779  2012-12-31 19:00:00       0.1                -2.7           81   \n",
       "8780  2012-12-31 20:00:00       0.2                -2.4           83   \n",
       "8781  2012-12-31 21:00:00      -0.5                -1.5           93   \n",
       "8782  2012-12-31 22:00:00      -0.2                -1.8           89   \n",
       "8783  2012-12-31 23:00:00       0.0                -2.1           86   \n",
       "\n",
       "      Wind Spd (km/h)  Visibility (km)  Stn Press (kPa) Weather  \n",
       "8779               30              9.7           100.13    Snow  \n",
       "8780               24              9.7           100.03    Snow  \n",
       "8781               28              4.8            99.95    Snow  \n",
       "8782               28              9.7            99.91    Snow  \n",
       "8783               30             11.3            99.89    Snow  "
      ]
     },
     "execution_count": 118,
     "metadata": {},
     "output_type": "execute_result"
    }
   ],
   "source": [
    "df.tail()"
   ]
  },
  {
   "cell_type": "code",
   "execution_count": 119,
   "id": "db5c2dc1",
   "metadata": {},
   "outputs": [
    {
     "data": {
      "text/html": [
       "<div>\n",
       "<style scoped>\n",
       "    .dataframe tbody tr th:only-of-type {\n",
       "        vertical-align: middle;\n",
       "    }\n",
       "\n",
       "    .dataframe tbody tr th {\n",
       "        vertical-align: top;\n",
       "    }\n",
       "\n",
       "    .dataframe thead th {\n",
       "        text-align: right;\n",
       "    }\n",
       "</style>\n",
       "<table border=\"1\" class=\"dataframe\">\n",
       "  <thead>\n",
       "    <tr style=\"text-align: right;\">\n",
       "      <th></th>\n",
       "      <th>Date/Time</th>\n",
       "      <th>Temp (C)</th>\n",
       "      <th>Dew Point Temp (C)</th>\n",
       "      <th>Rel Hum (%)</th>\n",
       "      <th>Wind Spd (km/h)</th>\n",
       "      <th>Visibility (km)</th>\n",
       "      <th>Stn Press (kPa)</th>\n",
       "      <th>Weather</th>\n",
       "    </tr>\n",
       "  </thead>\n",
       "  <tbody>\n",
       "    <tr>\n",
       "      <th>2515</th>\n",
       "      <td>2012-04-14 19:00:00</td>\n",
       "      <td>11.9</td>\n",
       "      <td>-0.6</td>\n",
       "      <td>42</td>\n",
       "      <td>7</td>\n",
       "      <td>48.3</td>\n",
       "      <td>100.91</td>\n",
       "      <td>Mostly Cloudy</td>\n",
       "    </tr>\n",
       "    <tr>\n",
       "      <th>6081</th>\n",
       "      <td>2012-09-10 09:00:00</td>\n",
       "      <td>13.3</td>\n",
       "      <td>7.3</td>\n",
       "      <td>67</td>\n",
       "      <td>15</td>\n",
       "      <td>24.1</td>\n",
       "      <td>101.33</td>\n",
       "      <td>Mainly Clear</td>\n",
       "    </tr>\n",
       "    <tr>\n",
       "      <th>3442</th>\n",
       "      <td>2012-05-23 10:00:00</td>\n",
       "      <td>17.1</td>\n",
       "      <td>11.8</td>\n",
       "      <td>71</td>\n",
       "      <td>11</td>\n",
       "      <td>24.1</td>\n",
       "      <td>101.21</td>\n",
       "      <td>Mostly Cloudy</td>\n",
       "    </tr>\n",
       "    <tr>\n",
       "      <th>1455</th>\n",
       "      <td>2012-03-01 15:00:00</td>\n",
       "      <td>-3.3</td>\n",
       "      <td>-6.2</td>\n",
       "      <td>80</td>\n",
       "      <td>24</td>\n",
       "      <td>1.6</td>\n",
       "      <td>100.71</td>\n",
       "      <td>Snow</td>\n",
       "    </tr>\n",
       "    <tr>\n",
       "      <th>2955</th>\n",
       "      <td>2012-05-03 03:00:00</td>\n",
       "      <td>11.2</td>\n",
       "      <td>8.5</td>\n",
       "      <td>83</td>\n",
       "      <td>15</td>\n",
       "      <td>25.0</td>\n",
       "      <td>101.21</td>\n",
       "      <td>Cloudy</td>\n",
       "    </tr>\n",
       "  </tbody>\n",
       "</table>\n",
       "</div>"
      ],
      "text/plain": [
       "                Date/Time  Temp (C)  Dew Point Temp (C)  Rel Hum (%)  \\\n",
       "2515  2012-04-14 19:00:00      11.9                -0.6           42   \n",
       "6081  2012-09-10 09:00:00      13.3                 7.3           67   \n",
       "3442  2012-05-23 10:00:00      17.1                11.8           71   \n",
       "1455  2012-03-01 15:00:00      -3.3                -6.2           80   \n",
       "2955  2012-05-03 03:00:00      11.2                 8.5           83   \n",
       "\n",
       "      Wind Spd (km/h)  Visibility (km)  Stn Press (kPa)        Weather  \n",
       "2515                7             48.3           100.91  Mostly Cloudy  \n",
       "6081               15             24.1           101.33   Mainly Clear  \n",
       "3442               11             24.1           101.21  Mostly Cloudy  \n",
       "1455               24              1.6           100.71           Snow  \n",
       "2955               15             25.0           101.21         Cloudy  "
      ]
     },
     "execution_count": 119,
     "metadata": {},
     "output_type": "execute_result"
    }
   ],
   "source": [
    "df.sample(5)"
   ]
  },
  {
   "cell_type": "markdown",
   "id": "f9841645",
   "metadata": {},
   "source": [
    "3.\tWrite the code to display a list of all of the columns in the dataset."
   ]
  },
  {
   "cell_type": "code",
   "execution_count": 120,
   "id": "10f020d2",
   "metadata": {},
   "outputs": [
    {
     "data": {
      "text/plain": [
       "Index(['Date/Time', 'Temp (C)', 'Dew Point Temp (C)', 'Rel Hum (%)',\n",
       "       'Wind Spd (km/h)', 'Visibility (km)', 'Stn Press (kPa)', 'Weather'],\n",
       "      dtype='object')"
      ]
     },
     "execution_count": 120,
     "metadata": {},
     "output_type": "execute_result"
    }
   ],
   "source": [
    "df.columns"
   ]
  },
  {
   "cell_type": "markdown",
   "id": "e9ee1ffd",
   "metadata": {},
   "source": [
    "4.\tThe column names are unwieldy for our purposes. Rename them according to this list {date_time, temp_c, dew_point, relative_humidity, wind_speed, visibility, pressure, and weather}.  Keep a copy of the original columns so we can change them back  if needed at the end of our analysis."
   ]
  },
  {
   "cell_type": "code",
   "execution_count": 121,
   "id": "e21892d1",
   "metadata": {},
   "outputs": [],
   "source": [
    "df1=df"
   ]
  },
  {
   "cell_type": "code",
   "execution_count": 122,
   "id": "5e63095b",
   "metadata": {},
   "outputs": [],
   "source": [
    "df=df.rename(columns={'Date/Time':'date_time','Temp (C)':'temp_c','Dew Point Temp (C)':'dew_point'})\n",
    "df=df.rename(columns={'Rel Hum (%)':'relative_humidity','Wind Spd (km/h)':'wind_speed',\n",
    "             'Visibility (km)':'visibilty','Stn Press (kPa)':'pressure','Weather':'weather'})"
   ]
  },
  {
   "cell_type": "markdown",
   "id": "293af33a",
   "metadata": {},
   "source": [
    "5.\tMost of the data in the dataset are numerical, write the code to get some standard statistics for each column (e.g. count, mean, etc.)"
   ]
  },
  {
   "cell_type": "code",
   "execution_count": 123,
   "id": "8f831318",
   "metadata": {},
   "outputs": [
    {
     "data": {
      "text/html": [
       "<div>\n",
       "<style scoped>\n",
       "    .dataframe tbody tr th:only-of-type {\n",
       "        vertical-align: middle;\n",
       "    }\n",
       "\n",
       "    .dataframe tbody tr th {\n",
       "        vertical-align: top;\n",
       "    }\n",
       "\n",
       "    .dataframe thead th {\n",
       "        text-align: right;\n",
       "    }\n",
       "</style>\n",
       "<table border=\"1\" class=\"dataframe\">\n",
       "  <thead>\n",
       "    <tr style=\"text-align: right;\">\n",
       "      <th></th>\n",
       "      <th>temp_c</th>\n",
       "      <th>dew_point</th>\n",
       "      <th>relative_humidity</th>\n",
       "      <th>wind_speed</th>\n",
       "      <th>visibilty</th>\n",
       "      <th>pressure</th>\n",
       "    </tr>\n",
       "  </thead>\n",
       "  <tbody>\n",
       "    <tr>\n",
       "      <th>count</th>\n",
       "      <td>8784.000000</td>\n",
       "      <td>8784.000000</td>\n",
       "      <td>8784.000000</td>\n",
       "      <td>8784.000000</td>\n",
       "      <td>8784.000000</td>\n",
       "      <td>8784.000000</td>\n",
       "    </tr>\n",
       "    <tr>\n",
       "      <th>mean</th>\n",
       "      <td>8.798144</td>\n",
       "      <td>2.555294</td>\n",
       "      <td>67.431694</td>\n",
       "      <td>14.945469</td>\n",
       "      <td>27.664447</td>\n",
       "      <td>101.051623</td>\n",
       "    </tr>\n",
       "    <tr>\n",
       "      <th>std</th>\n",
       "      <td>11.687883</td>\n",
       "      <td>10.883072</td>\n",
       "      <td>16.918881</td>\n",
       "      <td>8.688696</td>\n",
       "      <td>12.622688</td>\n",
       "      <td>0.844005</td>\n",
       "    </tr>\n",
       "    <tr>\n",
       "      <th>min</th>\n",
       "      <td>-23.300000</td>\n",
       "      <td>-28.500000</td>\n",
       "      <td>18.000000</td>\n",
       "      <td>0.000000</td>\n",
       "      <td>0.200000</td>\n",
       "      <td>97.520000</td>\n",
       "    </tr>\n",
       "    <tr>\n",
       "      <th>25%</th>\n",
       "      <td>0.100000</td>\n",
       "      <td>-5.900000</td>\n",
       "      <td>56.000000</td>\n",
       "      <td>9.000000</td>\n",
       "      <td>24.100000</td>\n",
       "      <td>100.560000</td>\n",
       "    </tr>\n",
       "    <tr>\n",
       "      <th>50%</th>\n",
       "      <td>9.300000</td>\n",
       "      <td>3.300000</td>\n",
       "      <td>68.000000</td>\n",
       "      <td>13.000000</td>\n",
       "      <td>25.000000</td>\n",
       "      <td>101.070000</td>\n",
       "    </tr>\n",
       "    <tr>\n",
       "      <th>75%</th>\n",
       "      <td>18.800000</td>\n",
       "      <td>11.800000</td>\n",
       "      <td>81.000000</td>\n",
       "      <td>20.000000</td>\n",
       "      <td>25.000000</td>\n",
       "      <td>101.590000</td>\n",
       "    </tr>\n",
       "    <tr>\n",
       "      <th>max</th>\n",
       "      <td>33.000000</td>\n",
       "      <td>24.400000</td>\n",
       "      <td>100.000000</td>\n",
       "      <td>83.000000</td>\n",
       "      <td>48.300000</td>\n",
       "      <td>103.650000</td>\n",
       "    </tr>\n",
       "  </tbody>\n",
       "</table>\n",
       "</div>"
      ],
      "text/plain": [
       "            temp_c    dew_point  relative_humidity   wind_speed    visibilty  \\\n",
       "count  8784.000000  8784.000000        8784.000000  8784.000000  8784.000000   \n",
       "mean      8.798144     2.555294          67.431694    14.945469    27.664447   \n",
       "std      11.687883    10.883072          16.918881     8.688696    12.622688   \n",
       "min     -23.300000   -28.500000          18.000000     0.000000     0.200000   \n",
       "25%       0.100000    -5.900000          56.000000     9.000000    24.100000   \n",
       "50%       9.300000     3.300000          68.000000    13.000000    25.000000   \n",
       "75%      18.800000    11.800000          81.000000    20.000000    25.000000   \n",
       "max      33.000000    24.400000         100.000000    83.000000    48.300000   \n",
       "\n",
       "          pressure  \n",
       "count  8784.000000  \n",
       "mean    101.051623  \n",
       "std       0.844005  \n",
       "min      97.520000  \n",
       "25%     100.560000  \n",
       "50%     101.070000  \n",
       "75%     101.590000  \n",
       "max     103.650000  "
      ]
     },
     "execution_count": 123,
     "metadata": {},
     "output_type": "execute_result"
    }
   ],
   "source": [
    "df.describe()"
   ]
  },
  {
   "cell_type": "markdown",
   "id": "93b8fca2",
   "metadata": {},
   "source": [
    "6.\tWrite the code to add a column named temp_f to the dataset that contains the temperature from temp_c represented in Fahrenheit. "
   ]
  },
  {
   "cell_type": "code",
   "execution_count": 124,
   "id": "65e81577",
   "metadata": {},
   "outputs": [
    {
     "name": "stdout",
     "output_type": "stream",
     "text": [
      "<class 'pandas.core.frame.DataFrame'>\n",
      "RangeIndex: 8784 entries, 0 to 8783\n",
      "Data columns (total 8 columns):\n",
      " #   Column             Non-Null Count  Dtype  \n",
      "---  ------             --------------  -----  \n",
      " 0   date_time          8784 non-null   object \n",
      " 1   temp_c             8784 non-null   int32  \n",
      " 2   dew_point          8784 non-null   float64\n",
      " 3   relative_humidity  8784 non-null   int64  \n",
      " 4   wind_speed         8784 non-null   int64  \n",
      " 5   visibilty          8784 non-null   float64\n",
      " 6   pressure           8784 non-null   float64\n",
      " 7   weather            8784 non-null   object \n",
      "dtypes: float64(3), int32(1), int64(2), object(2)\n",
      "memory usage: 514.8+ KB\n"
     ]
    }
   ],
   "source": [
    "df = df.astype({\"temp_c\": int})\n",
    "df.info()"
   ]
  },
  {
   "cell_type": "code",
   "execution_count": 125,
   "id": "d5537eb0",
   "metadata": {},
   "outputs": [],
   "source": [
    "temp_f=[(x*9/5)+32 for x in df['temp_c']]"
   ]
  },
  {
   "cell_type": "code",
   "execution_count": 126,
   "id": "896ae5d5",
   "metadata": {},
   "outputs": [],
   "source": [
    "df['temp_f'] = temp_f"
   ]
  },
  {
   "cell_type": "code",
   "execution_count": 127,
   "id": "8967c3ee",
   "metadata": {},
   "outputs": [
    {
     "name": "stdout",
     "output_type": "stream",
     "text": [
      "<class 'pandas.core.frame.DataFrame'>\n",
      "RangeIndex: 8784 entries, 0 to 8783\n",
      "Data columns (total 9 columns):\n",
      " #   Column             Non-Null Count  Dtype  \n",
      "---  ------             --------------  -----  \n",
      " 0   date_time          8784 non-null   object \n",
      " 1   temp_c             8784 non-null   int32  \n",
      " 2   dew_point          8784 non-null   float64\n",
      " 3   relative_humidity  8784 non-null   int64  \n",
      " 4   wind_speed         8784 non-null   int64  \n",
      " 5   visibilty          8784 non-null   float64\n",
      " 6   pressure           8784 non-null   float64\n",
      " 7   weather            8784 non-null   object \n",
      " 8   temp_f             8784 non-null   float64\n",
      "dtypes: float64(4), int32(1), int64(2), object(2)\n",
      "memory usage: 583.4+ KB\n"
     ]
    }
   ],
   "source": [
    "df.info()"
   ]
  },
  {
   "cell_type": "markdown",
   "id": "7a3b0c66",
   "metadata": {},
   "source": [
    "7.\tWrite the code to rearrange the columns in the dataset so temp_f appears immediately before temp_c."
   ]
  },
  {
   "cell_type": "code",
   "execution_count": 128,
   "id": "cca62326",
   "metadata": {},
   "outputs": [
    {
     "data": {
      "text/plain": [
       "Index(['date_time', 'temp_c', 'dew_point', 'relative_humidity', 'wind_speed',\n",
       "       'visibilty', 'pressure', 'weather', 'temp_f'],\n",
       "      dtype='object')"
      ]
     },
     "execution_count": 128,
     "metadata": {},
     "output_type": "execute_result"
    }
   ],
   "source": [
    "df.columns"
   ]
  },
  {
   "cell_type": "code",
   "execution_count": 129,
   "id": "da85df3b",
   "metadata": {},
   "outputs": [],
   "source": [
    "df=df[['date_time','temp_f','temp_c', 'dew_point', 'relative_humidity', 'wind_speed',\n",
    "       'visibilty', 'pressure', 'weather']]"
   ]
  },
  {
   "cell_type": "code",
   "execution_count": 130,
   "id": "ca1cafba",
   "metadata": {},
   "outputs": [
    {
     "data": {
      "text/plain": [
       "Index(['date_time', 'temp_f', 'temp_c', 'dew_point', 'relative_humidity',\n",
       "       'wind_speed', 'visibilty', 'pressure', 'weather'],\n",
       "      dtype='object')"
      ]
     },
     "execution_count": 130,
     "metadata": {},
     "output_type": "execute_result"
    }
   ],
   "source": [
    "df.columns"
   ]
  },
  {
   "cell_type": "markdown",
   "id": "b365cd74",
   "metadata": {},
   "source": [
    "8.\tWrite the code to display the data types of all the columns in the dataset."
   ]
  },
  {
   "cell_type": "code",
   "execution_count": 131,
   "id": "153d7585",
   "metadata": {},
   "outputs": [
    {
     "data": {
      "text/plain": [
       "date_time             object\n",
       "temp_f               float64\n",
       "temp_c                 int32\n",
       "dew_point            float64\n",
       "relative_humidity      int64\n",
       "wind_speed             int64\n",
       "visibilty            float64\n",
       "pressure             float64\n",
       "weather               object\n",
       "dtype: object"
      ]
     },
     "execution_count": 131,
     "metadata": {},
     "output_type": "execute_result"
    }
   ],
   "source": [
    "df.dtypes"
   ]
  },
  {
   "cell_type": "markdown",
   "id": "4a9466c5",
   "metadata": {},
   "source": [
    "9.\tYou’ll notice that the date_time column is not actually considered a date by Pandas.  Write the code to convert this column to a date/time column. Verify the conversion was successful."
   ]
  },
  {
   "cell_type": "code",
   "execution_count": 132,
   "id": "4c007753",
   "metadata": {},
   "outputs": [],
   "source": [
    "df['date_time']=pd.to_datetime(df['date_time'])"
   ]
  },
  {
   "cell_type": "code",
   "execution_count": 133,
   "id": "8abb8f8d",
   "metadata": {},
   "outputs": [
    {
     "data": {
      "text/plain": [
       "date_time            datetime64[ns]\n",
       "temp_f                      float64\n",
       "temp_c                        int32\n",
       "dew_point                   float64\n",
       "relative_humidity             int64\n",
       "wind_speed                    int64\n",
       "visibilty                   float64\n",
       "pressure                    float64\n",
       "weather                      object\n",
       "dtype: object"
      ]
     },
     "execution_count": 133,
     "metadata": {},
     "output_type": "execute_result"
    }
   ],
   "source": [
    "df.dtypes"
   ]
  },
  {
   "cell_type": "markdown",
   "id": "4ba6a883",
   "metadata": {},
   "source": [
    "10.\tWrite the code to get a count of the different weather designations in the weather column and display top 10 weather categories."
   ]
  },
  {
   "cell_type": "code",
   "execution_count": 134,
   "id": "27a91b6d",
   "metadata": {},
   "outputs": [
    {
     "data": {
      "text/plain": [
       "weather    50\n",
       "dtype: int64"
      ]
     },
     "execution_count": 134,
     "metadata": {},
     "output_type": "execute_result"
    }
   ],
   "source": [
    "df[['weather']].nunique()"
   ]
  },
  {
   "cell_type": "code",
   "execution_count": 135,
   "id": "e0b11093",
   "metadata": {},
   "outputs": [
    {
     "data": {
      "text/plain": [
       "weather                                \n",
       "Mainly Clear                               2106\n",
       "Mostly Cloudy                              2069\n",
       "Cloudy                                     1728\n",
       "Clear                                      1326\n",
       "Snow                                        390\n",
       "Rain                                        306\n",
       "Rain Showers                                188\n",
       "Fog                                         150\n",
       "Rain,Fog                                    116\n",
       "Drizzle,Fog                                  80\n",
       "Snow Showers                                 60\n",
       "Drizzle                                      41\n",
       "Snow,Fog                                     37\n",
       "Snow,Blowing Snow                            19\n",
       "Rain,Snow                                    18\n",
       "Thunderstorms,Rain Showers                   16\n",
       "Haze                                         16\n",
       "Drizzle,Snow,Fog                             15\n",
       "Freezing Rain                                14\n",
       "Freezing Drizzle,Snow                        11\n",
       "Freezing Drizzle                              7\n",
       "Freezing Drizzle,Fog                          6\n",
       "Snow,Ice Pellets                              6\n",
       "Snow,Haze                                     5\n",
       "Moderate Snow                                 4\n",
       "Snow Showers,Fog                              4\n",
       "Freezing Rain,Fog                             4\n",
       "Freezing Fog                                  4\n",
       "Rain,Snow,Ice Pellets                         4\n",
       "Thunderstorms,Rain                            3\n",
       "Thunderstorms,Rain Showers,Fog                3\n",
       "Rain,Haze                                     3\n",
       "Freezing Drizzle,Haze                         3\n",
       "Moderate Snow,Blowing Snow                    2\n",
       "Thunderstorms                                 2\n",
       "Freezing Rain,Haze                            2\n",
       "Rain Showers,Snow Showers                     2\n",
       "Drizzle,Snow                                  2\n",
       "Freezing Rain,Ice Pellets,Fog                 1\n",
       "Freezing Rain,Snow Grains                     1\n",
       "Thunderstorms,Moderate Rain Showers,Fog       1\n",
       "Thunderstorms,Heavy Rain Showers              1\n",
       "Rain,Snow Grains                              1\n",
       "Moderate Rain,Fog                             1\n",
       "Rain,Snow,Fog                                 1\n",
       "Drizzle,Ice Pellets,Fog                       1\n",
       "Rain Showers,Fog                              1\n",
       "Snow Pellets                                  1\n",
       "Rain,Ice Pellets                              1\n",
       "Thunderstorms,Rain,Fog                        1\n",
       "dtype: int64"
      ]
     },
     "execution_count": 135,
     "metadata": {},
     "output_type": "execute_result"
    }
   ],
   "source": [
    "df[['weather']].value_counts()"
   ]
  },
  {
   "cell_type": "code",
   "execution_count": 136,
   "id": "04242ed4",
   "metadata": {},
   "outputs": [
    {
     "data": {
      "text/html": [
       "<div>\n",
       "<style scoped>\n",
       "    .dataframe tbody tr th:only-of-type {\n",
       "        vertical-align: middle;\n",
       "    }\n",
       "\n",
       "    .dataframe tbody tr th {\n",
       "        vertical-align: top;\n",
       "    }\n",
       "\n",
       "    .dataframe thead th {\n",
       "        text-align: right;\n",
       "    }\n",
       "</style>\n",
       "<table border=\"1\" class=\"dataframe\">\n",
       "  <thead>\n",
       "    <tr style=\"text-align: right;\">\n",
       "      <th></th>\n",
       "      <th>weather</th>\n",
       "    </tr>\n",
       "  </thead>\n",
       "  <tbody>\n",
       "    <tr>\n",
       "      <th>0</th>\n",
       "      <td>Fog</td>\n",
       "    </tr>\n",
       "    <tr>\n",
       "      <th>1</th>\n",
       "      <td>Fog</td>\n",
       "    </tr>\n",
       "    <tr>\n",
       "      <th>2</th>\n",
       "      <td>Freezing Drizzle,Fog</td>\n",
       "    </tr>\n",
       "    <tr>\n",
       "      <th>3</th>\n",
       "      <td>Freezing Drizzle,Fog</td>\n",
       "    </tr>\n",
       "    <tr>\n",
       "      <th>4</th>\n",
       "      <td>Fog</td>\n",
       "    </tr>\n",
       "    <tr>\n",
       "      <th>5</th>\n",
       "      <td>Fog</td>\n",
       "    </tr>\n",
       "    <tr>\n",
       "      <th>6</th>\n",
       "      <td>Fog</td>\n",
       "    </tr>\n",
       "    <tr>\n",
       "      <th>7</th>\n",
       "      <td>Fog</td>\n",
       "    </tr>\n",
       "    <tr>\n",
       "      <th>8</th>\n",
       "      <td>Fog</td>\n",
       "    </tr>\n",
       "    <tr>\n",
       "      <th>9</th>\n",
       "      <td>Fog</td>\n",
       "    </tr>\n",
       "  </tbody>\n",
       "</table>\n",
       "</div>"
      ],
      "text/plain": [
       "                weather\n",
       "0                   Fog\n",
       "1                   Fog\n",
       "2  Freezing Drizzle,Fog\n",
       "3  Freezing Drizzle,Fog\n",
       "4                   Fog\n",
       "5                   Fog\n",
       "6                   Fog\n",
       "7                   Fog\n",
       "8                   Fog\n",
       "9                   Fog"
      ]
     },
     "execution_count": 136,
     "metadata": {},
     "output_type": "execute_result"
    }
   ],
   "source": [
    "df[['weather']].head(10)"
   ]
  },
  {
   "cell_type": "markdown",
   "id": "37d4ea01",
   "metadata": {},
   "source": [
    "11.\tWhich month of the year, the temp_f more than 90, humidity less than 50 , dew point more than 17, and the weather is clear? Extract that data and save it to a new data frame."
   ]
  },
  {
   "cell_type": "code",
   "execution_count": 137,
   "id": "8d0d6934",
   "metadata": {},
   "outputs": [],
   "source": [
    "df2=df.query('temp_f>90 & relative_humidity<50 & dew_point>17 & weather==\"Clear\"')\n"
   ]
  },
  {
   "cell_type": "markdown",
   "id": "fb69dcee",
   "metadata": {},
   "source": [
    "12.\tExtract the month information from the date_time column and add a month column at the data frame. (example: dt.month)"
   ]
  },
  {
   "cell_type": "code",
   "execution_count": 138,
   "id": "69b706d6",
   "metadata": {},
   "outputs": [
    {
     "data": {
      "text/html": [
       "<div>\n",
       "<style scoped>\n",
       "    .dataframe tbody tr th:only-of-type {\n",
       "        vertical-align: middle;\n",
       "    }\n",
       "\n",
       "    .dataframe tbody tr th {\n",
       "        vertical-align: top;\n",
       "    }\n",
       "\n",
       "    .dataframe thead th {\n",
       "        text-align: right;\n",
       "    }\n",
       "</style>\n",
       "<table border=\"1\" class=\"dataframe\">\n",
       "  <thead>\n",
       "    <tr style=\"text-align: right;\">\n",
       "      <th></th>\n",
       "      <th>date_time</th>\n",
       "    </tr>\n",
       "  </thead>\n",
       "  <tbody>\n",
       "    <tr>\n",
       "      <th>0</th>\n",
       "      <td>2012-01-01 00:00:00</td>\n",
       "    </tr>\n",
       "    <tr>\n",
       "      <th>1</th>\n",
       "      <td>2012-01-01 01:00:00</td>\n",
       "    </tr>\n",
       "    <tr>\n",
       "      <th>2</th>\n",
       "      <td>2012-01-01 02:00:00</td>\n",
       "    </tr>\n",
       "    <tr>\n",
       "      <th>3</th>\n",
       "      <td>2012-01-01 03:00:00</td>\n",
       "    </tr>\n",
       "    <tr>\n",
       "      <th>4</th>\n",
       "      <td>2012-01-01 04:00:00</td>\n",
       "    </tr>\n",
       "    <tr>\n",
       "      <th>...</th>\n",
       "      <td>...</td>\n",
       "    </tr>\n",
       "    <tr>\n",
       "      <th>8779</th>\n",
       "      <td>2012-12-31 19:00:00</td>\n",
       "    </tr>\n",
       "    <tr>\n",
       "      <th>8780</th>\n",
       "      <td>2012-12-31 20:00:00</td>\n",
       "    </tr>\n",
       "    <tr>\n",
       "      <th>8781</th>\n",
       "      <td>2012-12-31 21:00:00</td>\n",
       "    </tr>\n",
       "    <tr>\n",
       "      <th>8782</th>\n",
       "      <td>2012-12-31 22:00:00</td>\n",
       "    </tr>\n",
       "    <tr>\n",
       "      <th>8783</th>\n",
       "      <td>2012-12-31 23:00:00</td>\n",
       "    </tr>\n",
       "  </tbody>\n",
       "</table>\n",
       "<p>8784 rows × 1 columns</p>\n",
       "</div>"
      ],
      "text/plain": [
       "               date_time\n",
       "0    2012-01-01 00:00:00\n",
       "1    2012-01-01 01:00:00\n",
       "2    2012-01-01 02:00:00\n",
       "3    2012-01-01 03:00:00\n",
       "4    2012-01-01 04:00:00\n",
       "...                  ...\n",
       "8779 2012-12-31 19:00:00\n",
       "8780 2012-12-31 20:00:00\n",
       "8781 2012-12-31 21:00:00\n",
       "8782 2012-12-31 22:00:00\n",
       "8783 2012-12-31 23:00:00\n",
       "\n",
       "[8784 rows x 1 columns]"
      ]
     },
     "execution_count": 138,
     "metadata": {},
     "output_type": "execute_result"
    }
   ],
   "source": [
    "df[['date_time']]"
   ]
  },
  {
   "cell_type": "code",
   "execution_count": 139,
   "id": "2fb551d2",
   "metadata": {},
   "outputs": [
    {
     "data": {
      "text/plain": [
       "0       1\n",
       "1       1\n",
       "2       1\n",
       "3       1\n",
       "4       1\n",
       "       ..\n",
       "8779    1\n",
       "8780    1\n",
       "8781    1\n",
       "8782    1\n",
       "8783    1\n",
       "Name: date_time, Length: 8784, dtype: int64"
      ]
     },
     "execution_count": 139,
     "metadata": {},
     "output_type": "execute_result"
    }
   ],
   "source": [
    "df3=df\n",
    "date1 = pd.Series(pd.date_range('2012-01-01 00:00:00', periods = 8784))\n",
    "df3 = pd.DataFrame(dict(date_time = date1))\n",
    "  \n",
    "month_of_date = df3['date_time'].dt.month\n",
    "month_of_date"
   ]
  },
  {
   "cell_type": "code",
   "execution_count": 142,
   "id": "86086a1b",
   "metadata": {},
   "outputs": [
    {
     "data": {
      "text/plain": [
       "Index(['date_time', 'temp_f', 'temp_c', 'dew_point', 'relative_humidity',\n",
       "       'wind_speed', 'visibilty', 'pressure', 'weather', 'month'],\n",
       "      dtype='object')"
      ]
     },
     "execution_count": 142,
     "metadata": {},
     "output_type": "execute_result"
    }
   ],
   "source": [
    "\n",
    "df[['month']]=month_of_date\n",
    "df.columns"
   ]
  },
  {
   "cell_type": "markdown",
   "id": "13cd5196",
   "metadata": {},
   "source": [
    "13.\tSave your original dataframe to ‘weather_2012_new.csv’) – ensure your file does not contain the index column of the dataset."
   ]
  },
  {
   "cell_type": "code",
   "execution_count": 143,
   "id": "a3323874",
   "metadata": {},
   "outputs": [],
   "source": [
    "df1.to_csv('weather_2012_new.csv', index=False)"
   ]
  },
  {
   "cell_type": "code",
   "execution_count": null,
   "id": "06e99ea0",
   "metadata": {},
   "outputs": [],
   "source": []
  }
 ],
 "metadata": {
  "kernelspec": {
   "display_name": "Python 3",
   "language": "python",
   "name": "python3"
  },
  "language_info": {
   "codemirror_mode": {
    "name": "ipython",
    "version": 3
   },
   "file_extension": ".py",
   "mimetype": "text/x-python",
   "name": "python",
   "nbconvert_exporter": "python",
   "pygments_lexer": "ipython3",
   "version": "3.8.8"
  }
 },
 "nbformat": 4,
 "nbformat_minor": 5
}
